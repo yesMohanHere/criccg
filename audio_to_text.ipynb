{
 "cells": [
  {
   "cell_type": "code",
   "execution_count": 8,
   "id": "bb00028c-f4cf-4281-b98e-49f906558866",
   "metadata": {},
   "outputs": [
    {
     "name": "stdout",
     "output_type": "stream",
     "text": [
      "Defaulting to user installation because normal site-packages is not writeable\n",
      "Requirement already satisfied: moviepy in c:\\users\\hilcps\\appdata\\roaming\\python\\python312\\site-packages (2.2.1)\n",
      "Requirement already satisfied: decorator<6.0,>=4.0.2 in c:\\programdata\\anaconda3\\lib\\site-packages (from moviepy) (5.1.1)\n",
      "Requirement already satisfied: imageio<3.0,>=2.5 in c:\\programdata\\anaconda3\\lib\\site-packages (from moviepy) (2.33.1)\n",
      "Requirement already satisfied: imageio_ffmpeg>=0.2.0 in c:\\users\\hilcps\\appdata\\roaming\\python\\python312\\site-packages (from moviepy) (0.6.0)\n",
      "Requirement already satisfied: numpy>=1.25.0 in c:\\programdata\\anaconda3\\lib\\site-packages (from moviepy) (1.26.4)\n",
      "Requirement already satisfied: proglog<=1.0.0 in c:\\users\\hilcps\\appdata\\roaming\\python\\python312\\site-packages (from moviepy) (0.1.12)\n",
      "Requirement already satisfied: python-dotenv>=0.10 in c:\\programdata\\anaconda3\\lib\\site-packages (from moviepy) (0.21.0)\n",
      "Requirement already satisfied: pillow<12.0,>=9.2.0 in c:\\programdata\\anaconda3\\lib\\site-packages (from moviepy) (10.4.0)\n",
      "Requirement already satisfied: tqdm in c:\\programdata\\anaconda3\\lib\\site-packages (from proglog<=1.0.0->moviepy) (4.66.5)\n",
      "Requirement already satisfied: colorama in c:\\programdata\\anaconda3\\lib\\site-packages (from tqdm->proglog<=1.0.0->moviepy) (0.4.6)\n"
     ]
    }
   ],
   "source": [
    "!pip install moviepy\n"
   ]
  },
  {
   "cell_type": "code",
   "execution_count": 75,
   "id": "3f7511d5-0ca9-4210-9cc7-4b53ef2e2e8f",
   "metadata": {},
   "outputs": [
    {
     "name": "stdout",
     "output_type": "stream",
     "text": [
      "MoviePy - Writing audio in C:/Users/HILCPS/Downloads/audiop8209.wav\n"
     ]
    },
    {
     "name": "stderr",
     "output_type": "stream",
     "text": [
      "                                                                                                                       "
     ]
    },
    {
     "name": "stdout",
     "output_type": "stream",
     "text": [
      "MoviePy - Done.\n"
     ]
    },
    {
     "name": "stderr",
     "output_type": "stream",
     "text": [
      "\r"
     ]
    }
   ],
   "source": [
    "from moviepy import VideoFileClip\n",
    "\n",
    "video = VideoFileClip(\"C:/Users/HILCPS/Downloads/p8209.mp4\")\n",
    "video.audio.write_audiofile(\"C:/Users/HILCPS/Downloads/audiop8209.wav\")\n"
   ]
  },
  {
   "cell_type": "code",
   "execution_count": 26,
   "id": "cb97688f-6e69-411d-956d-f942f6450b72",
   "metadata": {},
   "outputs": [
    {
     "name": "stdout",
     "output_type": "stream",
     "text": [
      "Defaulting to user installation because normal site-packages is not writeable\n",
      "Collecting git+https://github.com/openai/whisper.git\n",
      "  Cloning https://github.com/openai/whisper.git to c:\\users\\hilcps\\appdata\\local\\temp\\pip-req-build-qs70vtfp\n",
      "  Resolved https://github.com/openai/whisper.git to commit dd985ac4b90cafeef8712f2998d62c59c3e62d22\n",
      "  Installing build dependencies: started\n",
      "  Installing build dependencies: finished with status 'done'\n",
      "  Getting requirements to build wheel: started\n",
      "  Getting requirements to build wheel: finished with status 'done'\n",
      "  Preparing metadata (pyproject.toml): started\n",
      "  Preparing metadata (pyproject.toml): finished with status 'done'\n",
      "Requirement already satisfied: more-itertools in c:\\programdata\\anaconda3\\lib\\site-packages (from openai-whisper==20240930) (10.3.0)\n",
      "Requirement already satisfied: numba in c:\\programdata\\anaconda3\\lib\\site-packages (from openai-whisper==20240930) (0.60.0)\n",
      "Requirement already satisfied: numpy in c:\\programdata\\anaconda3\\lib\\site-packages (from openai-whisper==20240930) (1.26.4)\n",
      "Requirement already satisfied: tiktoken in c:\\users\\hilcps\\appdata\\roaming\\python\\python312\\site-packages (from openai-whisper==20240930) (0.9.0)\n",
      "Requirement already satisfied: torch in c:\\users\\hilcps\\appdata\\roaming\\python\\python312\\site-packages (from openai-whisper==20240930) (2.7.1)\n",
      "Requirement already satisfied: tqdm in c:\\programdata\\anaconda3\\lib\\site-packages (from openai-whisper==20240930) (4.66.5)\n",
      "Requirement already satisfied: llvmlite<0.44,>=0.43.0dev0 in c:\\programdata\\anaconda3\\lib\\site-packages (from numba->openai-whisper==20240930) (0.43.0)\n",
      "Requirement already satisfied: regex>=2022.1.18 in c:\\programdata\\anaconda3\\lib\\site-packages (from tiktoken->openai-whisper==20240930) (2024.9.11)\n",
      "Requirement already satisfied: requests>=2.26.0 in c:\\programdata\\anaconda3\\lib\\site-packages (from tiktoken->openai-whisper==20240930) (2.32.3)\n",
      "Requirement already satisfied: filelock in c:\\programdata\\anaconda3\\lib\\site-packages (from torch->openai-whisper==20240930) (3.13.1)\n",
      "Requirement already satisfied: typing-extensions>=4.10.0 in c:\\programdata\\anaconda3\\lib\\site-packages (from torch->openai-whisper==20240930) (4.11.0)\n",
      "Requirement already satisfied: sympy>=1.13.3 in c:\\users\\hilcps\\appdata\\roaming\\python\\python312\\site-packages (from torch->openai-whisper==20240930) (1.14.0)\n",
      "Requirement already satisfied: networkx in c:\\programdata\\anaconda3\\lib\\site-packages (from torch->openai-whisper==20240930) (3.3)\n",
      "Requirement already satisfied: jinja2 in c:\\programdata\\anaconda3\\lib\\site-packages (from torch->openai-whisper==20240930) (3.1.4)\n",
      "Requirement already satisfied: fsspec in c:\\programdata\\anaconda3\\lib\\site-packages (from torch->openai-whisper==20240930) (2024.6.1)\n",
      "Requirement already satisfied: setuptools in c:\\programdata\\anaconda3\\lib\\site-packages (from torch->openai-whisper==20240930) (75.1.0)\n",
      "Requirement already satisfied: colorama in c:\\programdata\\anaconda3\\lib\\site-packages (from tqdm->openai-whisper==20240930) (0.4.6)\n",
      "Requirement already satisfied: charset-normalizer<4,>=2 in c:\\programdata\\anaconda3\\lib\\site-packages (from requests>=2.26.0->tiktoken->openai-whisper==20240930) (3.3.2)\n",
      "Requirement already satisfied: idna<4,>=2.5 in c:\\programdata\\anaconda3\\lib\\site-packages (from requests>=2.26.0->tiktoken->openai-whisper==20240930) (3.7)\n",
      "Requirement already satisfied: urllib3<3,>=1.21.1 in c:\\programdata\\anaconda3\\lib\\site-packages (from requests>=2.26.0->tiktoken->openai-whisper==20240930) (2.2.3)\n",
      "Requirement already satisfied: certifi>=2017.4.17 in c:\\programdata\\anaconda3\\lib\\site-packages (from requests>=2.26.0->tiktoken->openai-whisper==20240930) (2024.8.30)\n",
      "Requirement already satisfied: mpmath<1.4,>=1.1.0 in c:\\programdata\\anaconda3\\lib\\site-packages (from sympy>=1.13.3->torch->openai-whisper==20240930) (1.3.0)\n",
      "Requirement already satisfied: MarkupSafe>=2.0 in c:\\programdata\\anaconda3\\lib\\site-packages (from jinja2->torch->openai-whisper==20240930) (2.1.3)\n"
     ]
    },
    {
     "name": "stderr",
     "output_type": "stream",
     "text": [
      "  Running command git clone --filter=blob:none --quiet https://github.com/openai/whisper.git 'C:\\Users\\HILCPS\\AppData\\Local\\Temp\\pip-req-build-qs70vtfp'\n"
     ]
    }
   ],
   "source": [
    "!pip install git+https://github.com/openai/whisper.git\n"
   ]
  },
  {
   "cell_type": "code",
   "execution_count": 25,
   "id": "bfd884b9-e7b1-4c11-be5c-c5e5dc20c5f6",
   "metadata": {},
   "outputs": [],
   "source": [
    "# tsv to csv conversion"
   ]
  },
  {
   "cell_type": "code",
   "execution_count": 24,
   "id": "b9a309ad-d1fa-4d93-9ac7-aab331cab550",
   "metadata": {},
   "outputs": [
    {
     "name": "stdout",
     "output_type": "stream",
     "text": [
      "Saved as CSV: C:\\Users\\HILCPS\\Downloads\\transcript.csv\n"
     ]
    }
   ],
   "source": [
    "import csv\n",
    "\n",
    "tsv_path = r\"C:\\Users\\HILCPS\\Downloads\\audio.tsv\"\n",
    "csv_path = r\"C:\\Users\\HILCPS\\Downloads\\transcript.csv\"\n",
    "\n",
    "with open(tsv_path, 'r', encoding='utf-8') as tsvfile:\n",
    "    reader = csv.reader(tsvfile, delimiter='\\t')\n",
    "    rows = list(reader)\n",
    "\n",
    "with open(csv_path, 'w', newline='', encoding='utf-8') as csvfile:\n",
    "    writer = csv.writer(csvfile)\n",
    "    writer.writerows(rows)\n",
    "\n",
    "print(\"Saved as CSV:\", csv_path)\n"
   ]
  },
  {
   "cell_type": "code",
   "execution_count": null,
   "id": "4c3d605c-eb5f-4c02-a383-67953d23a1db",
   "metadata": {},
   "outputs": [],
   "source": [
    "# to remove unnecessary details and to save only required time stamps and text into json file "
   ]
  },
  {
   "cell_type": "code",
   "execution_count": 76,
   "id": "cdfba793-882f-41f1-9b09-9fc75ab426ae",
   "metadata": {},
   "outputs": [
    {
     "name": "stdout",
     "output_type": "stream",
     "text": [
      "Cleaned transcript saved as transcript_clean_p8209.json\n"
     ]
    }
   ],
   "source": [
    "import json\n",
    "\n",
    "# Load the full whisper JSON output\n",
    "with open(r\"C:\\Users\\HILCPS\\Downloads\\audiop8209.json\", \"r\", encoding=\"utf-8\") as f:\n",
    "    data = json.load(f)\n",
    "\n",
    "# Extract only timestamps and text\n",
    "minimal = [\n",
    "    {\n",
    "        \"start\": round(seg[\"start\"], 2),\n",
    "        \"end\": round(seg[\"end\"], 2),\n",
    "        \"text\": seg[\"text\"].strip()\n",
    "    }\n",
    "    for seg in data[\"segments\"]\n",
    "]\n",
    "\n",
    "# Save the minimal JSON\n",
    "with open(r\"C:\\Users\\HILCPS\\Downloads\\transcript_clean_p8209.json\", \"w\", encoding=\"utf-8\") as f:\n",
    "    json.dump(minimal, f, indent=4, ensure_ascii=False)\n",
    "\n",
    "print(\"Cleaned transcript saved as transcript_clean_p8209.json\")\n"
   ]
  },
  {
   "cell_type": "code",
   "execution_count": 44,
   "id": "171d5a06-88ec-4773-88a6-1dc94cd99763",
   "metadata": {},
   "outputs": [],
   "source": [
    "#  What It Does:\n",
    "# Loads your labeled JSON (with start, end, label)\n",
    "\n",
    "# Prompts you on the terminal to select a label (e.g., WICKET)\n",
    "\n",
    "# Filters all events with that label\n",
    "\n",
    "# Extracts video segments from the full video based on timestamps\n",
    "\n",
    "# Merges all clips for that label into one single output video"
   ]
  },
  {
   "cell_type": "code",
   "execution_count": 47,
   "id": "d7ccb7c9-abcc-4765-b9c2-e19b72dd323c",
   "metadata": {},
   "outputs": [
    {
     "name": "stdout",
     "output_type": "stream",
     "text": [
      "Defaulting to user installation because normal site-packages is not writeable\n",
      "Requirement already satisfied: moviepy in c:\\users\\hilcps\\appdata\\roaming\\python\\python312\\site-packages (2.2.1)\n",
      "Requirement already satisfied: decorator<6.0,>=4.0.2 in c:\\programdata\\anaconda3\\lib\\site-packages (from moviepy) (5.1.1)\n",
      "Requirement already satisfied: imageio<3.0,>=2.5 in c:\\programdata\\anaconda3\\lib\\site-packages (from moviepy) (2.33.1)\n",
      "Requirement already satisfied: imageio_ffmpeg>=0.2.0 in c:\\users\\hilcps\\appdata\\roaming\\python\\python312\\site-packages (from moviepy) (0.6.0)\n",
      "Requirement already satisfied: numpy>=1.25.0 in c:\\programdata\\anaconda3\\lib\\site-packages (from moviepy) (1.26.4)\n",
      "Requirement already satisfied: proglog<=1.0.0 in c:\\users\\hilcps\\appdata\\roaming\\python\\python312\\site-packages (from moviepy) (0.1.12)\n",
      "Requirement already satisfied: python-dotenv>=0.10 in c:\\programdata\\anaconda3\\lib\\site-packages (from moviepy) (0.21.0)\n",
      "Requirement already satisfied: pillow<12.0,>=9.2.0 in c:\\programdata\\anaconda3\\lib\\site-packages (from moviepy) (10.4.0)\n",
      "Requirement already satisfied: tqdm in c:\\programdata\\anaconda3\\lib\\site-packages (from proglog<=1.0.0->moviepy) (4.66.5)\n",
      "Requirement already satisfied: colorama in c:\\programdata\\anaconda3\\lib\\site-packages (from tqdm->proglog<=1.0.0->moviepy) (0.4.6)\n"
     ]
    }
   ],
   "source": [
    "!pip install --upgrade moviepy\n"
   ]
  },
  {
   "cell_type": "code",
   "execution_count": 58,
   "id": "b49b0b64-f4f9-4d64-a71c-e60fd375b1a2",
   "metadata": {},
   "outputs": [
    {
     "name": "stdout",
     "output_type": "stream",
     "text": [
      "Defaulting to user installation because normal site-packages is not writeable\n",
      "Collecting ffmpeg-python\n",
      "  Downloading ffmpeg_python-0.2.0-py3-none-any.whl.metadata (1.7 kB)\n",
      "Collecting future (from ffmpeg-python)\n",
      "  Downloading future-1.0.0-py3-none-any.whl.metadata (4.0 kB)\n",
      "Downloading ffmpeg_python-0.2.0-py3-none-any.whl (25 kB)\n",
      "Downloading future-1.0.0-py3-none-any.whl (491 kB)\n",
      "Installing collected packages: future, ffmpeg-python\n",
      "Successfully installed ffmpeg-python-0.2.0 future-1.0.0\n"
     ]
    },
    {
     "name": "stderr",
     "output_type": "stream",
     "text": [
      "  WARNING: The scripts futurize.exe and pasteurize.exe are installed in 'C:\\Users\\HILCPS\\AppData\\Roaming\\Python\\Python312\\Scripts' which is not on PATH.\n",
      "  Consider adding this directory to PATH or, if you prefer to suppress this warning, use --no-warn-script-location.\n"
     ]
    }
   ],
   "source": [
    "!pip install ffmpeg-python\n"
   ]
  },
  {
   "cell_type": "code",
   "execution_count": 81,
   "id": "1ea6de8c-7489-4469-ac15-157392266bff",
   "metadata": {},
   "outputs": [
    {
     "name": "stdin",
     "output_type": "stream",
     "text": [
      "🔍 Enter label to extract (e.g., SIX):  FOUR\n"
     ]
    },
    {
     "name": "stdout",
     "output_type": "stream",
     "text": [
      "✂️ Found 1 segments for label: FOUR\n",
      "✅ Trimmed: C:\\Users\\HILCPS\\Downloads\\clips_temp\\clip_000.mp4\n",
      "\n",
      "🎬 Merged video saved to: C:\\Users\\HILCPS\\Downloads\\extracted_prompted_FOUR_ffmpeg_p8209.mp4\n"
     ]
    }
   ],
   "source": [
    "import json\n",
    "import os\n",
    "import subprocess\n",
    "\n",
    "# === Input Paths ===\n",
    "# input_video = r\"C:\\Users\\HILCPS\\Downloads\\p8208.mp4\"\n",
    "# json_path = r\"C:\\Users\\HILCPS\\Downloads\\transcript_llama3_labels.json\"\n",
    "# output_dir = r\"C:\\Users\\HILCPS\\Downloads\\clips_temp\"\n",
    "# output_merged = r\"C:\\Users\\HILCPS\\Downloads\\extracted_SIX_ffmpeg.mp4\"\n",
    "input_video = r\"C:\\Users\\HILCPS\\Downloads\\p8209.mp4\"\n",
    "json_path = r\"C:\\Users\\HILCPS\\Downloads\\transcript_prompted_llama3_labels_p8209.json\"\n",
    "output_dir = r\"C:\\Users\\HILCPS\\Downloads\\clips_temp\"\n",
    "output_merged = r\"C:\\Users\\HILCPS\\Downloads\\extracted_prompted_FOUR_ffmpeg_p8209.mp4\"\n",
    "# === Create temp dir ===\n",
    "os.makedirs(output_dir, exist_ok=True)\n",
    "\n",
    "# === Load JSON ===\n",
    "with open(json_path, \"r\", encoding=\"utf-8\") as f:\n",
    "    transcript = json.load(f)\n",
    "\n",
    "# === Ask for label ===\n",
    "label = input(\"🔍 Enter label to extract (e.g., SIX): \").strip().upper()\n",
    "\n",
    "# === Filter entries ===\n",
    "segments = [t for t in transcript if t[\"label\"] == label]\n",
    "print(f\"✂️ Found {len(segments)} segments for label: {label}\")\n",
    "\n",
    "# === Trim clips ===\n",
    "trimmed_files = []\n",
    "for i, seg in enumerate(segments):\n",
    "    start = float(seg[\"start\"])\n",
    "    duration = float(seg[\"end\"]) - start\n",
    "    clip_path = os.path.join(output_dir, f\"clip_{i:03d}.mp4\")\n",
    "    trimmed_files.append(clip_path)\n",
    "    ffmpeg_path = r\"C:\\ffmpeg-7.1.1-essentials_build\\ffmpeg-7.1.1-essentials_build\\bin\\ffmpeg.exe\" # Change this if your location is different\n",
    "    cmd = [\n",
    "        ffmpeg_path, \"-y\",\n",
    "        \"-i\", input_video,\n",
    "        \"-ss\", str(start),\n",
    "        \"-t\", str(duration),\n",
    "        \"-c\", \"copy\",\n",
    "        clip_path\n",
    "    ]\n",
    "\n",
    "    try:\n",
    "        subprocess.run(cmd, check=True)\n",
    "        print(f\"✅ Trimmed: {clip_path}\")\n",
    "    except subprocess.CalledProcessError as e:\n",
    "        print(f\"❌ Failed: {clip_path}\")\n",
    "\n",
    "# === Create file list for merge ===\n",
    "list_path = os.path.join(output_dir, \"merge_list.txt\")\n",
    "with open(list_path, \"w\", encoding=\"utf-8\") as f:\n",
    "    for clip in trimmed_files:\n",
    "        f.write(f\"file '{clip}'\\n\")\n",
    "\n",
    "# === Merge clips ===\n",
    "merge_cmd = [\n",
    "    ffmpeg_path, \"-y\",\n",
    "    \"-f\", \"concat\",\n",
    "    \"-safe\", \"0\",\n",
    "    \"-i\", list_path,\n",
    "    \"-c\", \"copy\",\n",
    "    output_merged\n",
    "]\n",
    "\n",
    "try:\n",
    "    subprocess.run(merge_cmd, check=True)\n",
    "    print(f\"\\n🎬 Merged video saved to: {output_merged}\")\n",
    "except subprocess.CalledProcessError:\n",
    "    print(\"❌ Failed to merge clips.\")\n"
   ]
  },
  {
   "cell_type": "code",
   "execution_count": null,
   "id": "f9bb4e4e-9df3-4fad-9926-317a3771863a",
   "metadata": {},
   "outputs": [],
   "source": []
  }
 ],
 "metadata": {
  "kernelspec": {
   "display_name": "Python 3 (ipykernel)",
   "language": "python",
   "name": "python3"
  },
  "language_info": {
   "codemirror_mode": {
    "name": "ipython",
    "version": 3
   },
   "file_extension": ".py",
   "mimetype": "text/x-python",
   "name": "python",
   "nbconvert_exporter": "python",
   "pygments_lexer": "ipython3",
   "version": "3.12.7"
  }
 },
 "nbformat": 4,
 "nbformat_minor": 5
}
